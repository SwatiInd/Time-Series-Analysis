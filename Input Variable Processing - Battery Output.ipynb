{
 "cells": [
  {
   "cell_type": "markdown",
   "metadata": {},
   "source": [
    "## Input Variables Processing \n",
    "\n",
    "Input variables processing converts raw data to usable information and speeds up modeling/analytic processes. In this notebook,  input variables of battery forecasting competition at Kaggle is processed (https://www.kaggle.com/competitions/eso-battery-forecasting/data). \n",
    "\n",
    "The process and outcome of the following four steps are illustrated. \n",
    "\n",
    "1. Missing Values\n",
    "    - Identify columns which have missing values\n",
    "\n",
    "2. Columns types: Depending on number of unique values of each column, they can be divided into three groups:\n",
    "\n",
    "    - Constant value columns- column has only one value for all rows\n",
    "    - Categorical columns - column has small number (< 5) of unique values. Further, they can be either numerical and object data types.\n",
    "    - Continuous columns - numerical values\n",
    "\n",
    "3. Data impute: Based on column types, imputation method is decided.\n",
    "\n",
    "    - Determine methods of imputing missing values columns\n",
    "    - After imputation, check number of null values and decide the action\n",
    "\n",
    "4. Data Cleaning\n",
    "\n",
    "    - Drop columns and rows of less or no relevance "
   ]
  },
  {
   "cell_type": "code",
   "execution_count": 1,
   "metadata": {},
   "outputs": [],
   "source": [
    "import pandas as pd\n",
    "\n",
    "from TimeindexProcessing import TimeindexProcessing\n",
    "from InputVariablesProcessing import InputVariablesProcessing"
   ]
  },
  {
   "cell_type": "code",
   "execution_count": 2,
   "metadata": {},
   "outputs": [
    {
     "data": {
      "text/html": [
       "<div>\n",
       "<style scoped>\n",
       "    .dataframe tbody tr th:only-of-type {\n",
       "        vertical-align: middle;\n",
       "    }\n",
       "\n",
       "    .dataframe tbody tr th {\n",
       "        vertical-align: top;\n",
       "    }\n",
       "\n",
       "    .dataframe thead th {\n",
       "        text-align: right;\n",
       "    }\n",
       "</style>\n",
       "<table border=\"1\" class=\"dataframe\">\n",
       "  <thead>\n",
       "    <tr style=\"text-align: right;\">\n",
       "      <th></th>\n",
       "      <th>id</th>\n",
       "      <th>UTC_Settlement_DateTime</th>\n",
       "      <th>battery_output</th>\n",
       "      <th>East_Midlands_price</th>\n",
       "      <th>Eastern_England_price</th>\n",
       "      <th>London_price</th>\n",
       "      <th>Merseyside_and_Northern_Wales_price</th>\n",
       "      <th>North_Western_England_price</th>\n",
       "      <th>Northern_Scotland_price</th>\n",
       "      <th>South_Western_England_price</th>\n",
       "      <th>...</th>\n",
       "      <th>is_daySouthhampton - Portsmouth_weather</th>\n",
       "      <th>locationSouthhampton - Portsmouth_weather</th>\n",
       "      <th>populationSouthhampton - Portsmouth_weather</th>\n",
       "      <th>latitudeSouthhampton - Portsmouth_weather</th>\n",
       "      <th>longitudeSouthhampton - Portsmouth_weather</th>\n",
       "      <th>generationtime_msSouthhampton - Portsmouth_weather</th>\n",
       "      <th>utc_offset_secondsSouthhampton - Portsmouth_weather</th>\n",
       "      <th>timezoneSouthhampton - Portsmouth_weather</th>\n",
       "      <th>timezone_abbreviationSouthhampton - Portsmouth_weather</th>\n",
       "      <th>elevationSouthhampton - Portsmouth_weather</th>\n",
       "    </tr>\n",
       "  </thead>\n",
       "  <tbody>\n",
       "    <tr>\n",
       "      <th>0</th>\n",
       "      <td>0</td>\n",
       "      <td>8/10/2020 23:30</td>\n",
       "      <td>1.528</td>\n",
       "      <td>5.985</td>\n",
       "      <td>6.279</td>\n",
       "      <td>5.985</td>\n",
       "      <td>6.5835</td>\n",
       "      <td>6.279</td>\n",
       "      <td>7.182</td>\n",
       "      <td>6.888</td>\n",
       "      <td>...</td>\n",
       "      <td>NaN</td>\n",
       "      <td>NaN</td>\n",
       "      <td>NaN</td>\n",
       "      <td>NaN</td>\n",
       "      <td>NaN</td>\n",
       "      <td>NaN</td>\n",
       "      <td>NaN</td>\n",
       "      <td>NaN</td>\n",
       "      <td>NaN</td>\n",
       "      <td>NaN</td>\n",
       "    </tr>\n",
       "    <tr>\n",
       "      <th>1</th>\n",
       "      <td>1</td>\n",
       "      <td>8/11/2020 0:00</td>\n",
       "      <td>0.178</td>\n",
       "      <td>6.300</td>\n",
       "      <td>6.615</td>\n",
       "      <td>6.300</td>\n",
       "      <td>6.9300</td>\n",
       "      <td>6.615</td>\n",
       "      <td>7.560</td>\n",
       "      <td>7.245</td>\n",
       "      <td>...</td>\n",
       "      <td>0.0</td>\n",
       "      <td>Southhampton - Portsmouth</td>\n",
       "      <td>927916.0</td>\n",
       "      <td>50.699997</td>\n",
       "      <td>-1.199997</td>\n",
       "      <td>61.430931</td>\n",
       "      <td>0.0</td>\n",
       "      <td>GMT</td>\n",
       "      <td>GMT</td>\n",
       "      <td>10.0</td>\n",
       "    </tr>\n",
       "    <tr>\n",
       "      <th>2</th>\n",
       "      <td>2</td>\n",
       "      <td>8/11/2020 0:30</td>\n",
       "      <td>-1.242</td>\n",
       "      <td>6.300</td>\n",
       "      <td>6.615</td>\n",
       "      <td>6.300</td>\n",
       "      <td>6.9300</td>\n",
       "      <td>6.615</td>\n",
       "      <td>7.560</td>\n",
       "      <td>7.245</td>\n",
       "      <td>...</td>\n",
       "      <td>NaN</td>\n",
       "      <td>NaN</td>\n",
       "      <td>NaN</td>\n",
       "      <td>NaN</td>\n",
       "      <td>NaN</td>\n",
       "      <td>NaN</td>\n",
       "      <td>NaN</td>\n",
       "      <td>NaN</td>\n",
       "      <td>NaN</td>\n",
       "      <td>NaN</td>\n",
       "    </tr>\n",
       "    <tr>\n",
       "      <th>3</th>\n",
       "      <td>3</td>\n",
       "      <td>8/11/2020 1:00</td>\n",
       "      <td>2.104</td>\n",
       "      <td>5.985</td>\n",
       "      <td>6.279</td>\n",
       "      <td>5.985</td>\n",
       "      <td>6.5835</td>\n",
       "      <td>6.279</td>\n",
       "      <td>7.182</td>\n",
       "      <td>6.888</td>\n",
       "      <td>...</td>\n",
       "      <td>0.0</td>\n",
       "      <td>Southhampton - Portsmouth</td>\n",
       "      <td>927916.0</td>\n",
       "      <td>50.699997</td>\n",
       "      <td>-1.199997</td>\n",
       "      <td>61.430931</td>\n",
       "      <td>0.0</td>\n",
       "      <td>GMT</td>\n",
       "      <td>GMT</td>\n",
       "      <td>10.0</td>\n",
       "    </tr>\n",
       "    <tr>\n",
       "      <th>4</th>\n",
       "      <td>4</td>\n",
       "      <td>8/11/2020 1:30</td>\n",
       "      <td>-0.664</td>\n",
       "      <td>5.985</td>\n",
       "      <td>6.279</td>\n",
       "      <td>5.985</td>\n",
       "      <td>6.5835</td>\n",
       "      <td>6.279</td>\n",
       "      <td>7.182</td>\n",
       "      <td>6.888</td>\n",
       "      <td>...</td>\n",
       "      <td>NaN</td>\n",
       "      <td>NaN</td>\n",
       "      <td>NaN</td>\n",
       "      <td>NaN</td>\n",
       "      <td>NaN</td>\n",
       "      <td>NaN</td>\n",
       "      <td>NaN</td>\n",
       "      <td>NaN</td>\n",
       "      <td>NaN</td>\n",
       "      <td>NaN</td>\n",
       "    </tr>\n",
       "  </tbody>\n",
       "</table>\n",
       "<p>5 rows × 294 columns</p>\n",
       "</div>"
      ],
      "text/plain": [
       "   id UTC_Settlement_DateTime  battery_output  East_Midlands_price  \\\n",
       "0   0         8/10/2020 23:30           1.528                5.985   \n",
       "1   1          8/11/2020 0:00           0.178                6.300   \n",
       "2   2          8/11/2020 0:30          -1.242                6.300   \n",
       "3   3          8/11/2020 1:00           2.104                5.985   \n",
       "4   4          8/11/2020 1:30          -0.664                5.985   \n",
       "\n",
       "   Eastern_England_price  London_price  Merseyside_and_Northern_Wales_price  \\\n",
       "0                  6.279         5.985                               6.5835   \n",
       "1                  6.615         6.300                               6.9300   \n",
       "2                  6.615         6.300                               6.9300   \n",
       "3                  6.279         5.985                               6.5835   \n",
       "4                  6.279         5.985                               6.5835   \n",
       "\n",
       "   North_Western_England_price  Northern_Scotland_price  \\\n",
       "0                        6.279                    7.182   \n",
       "1                        6.615                    7.560   \n",
       "2                        6.615                    7.560   \n",
       "3                        6.279                    7.182   \n",
       "4                        6.279                    7.182   \n",
       "\n",
       "   South_Western_England_price  ...  is_daySouthhampton - Portsmouth_weather  \\\n",
       "0                        6.888  ...                                      NaN   \n",
       "1                        7.245  ...                                      0.0   \n",
       "2                        7.245  ...                                      NaN   \n",
       "3                        6.888  ...                                      0.0   \n",
       "4                        6.888  ...                                      NaN   \n",
       "\n",
       "   locationSouthhampton - Portsmouth_weather  \\\n",
       "0                                        NaN   \n",
       "1                  Southhampton - Portsmouth   \n",
       "2                                        NaN   \n",
       "3                  Southhampton - Portsmouth   \n",
       "4                                        NaN   \n",
       "\n",
       "   populationSouthhampton - Portsmouth_weather  \\\n",
       "0                                          NaN   \n",
       "1                                     927916.0   \n",
       "2                                          NaN   \n",
       "3                                     927916.0   \n",
       "4                                          NaN   \n",
       "\n",
       "   latitudeSouthhampton - Portsmouth_weather  \\\n",
       "0                                        NaN   \n",
       "1                                  50.699997   \n",
       "2                                        NaN   \n",
       "3                                  50.699997   \n",
       "4                                        NaN   \n",
       "\n",
       "   longitudeSouthhampton - Portsmouth_weather  \\\n",
       "0                                         NaN   \n",
       "1                                   -1.199997   \n",
       "2                                         NaN   \n",
       "3                                   -1.199997   \n",
       "4                                         NaN   \n",
       "\n",
       "   generationtime_msSouthhampton - Portsmouth_weather  \\\n",
       "0                                                NaN    \n",
       "1                                          61.430931    \n",
       "2                                                NaN    \n",
       "3                                          61.430931    \n",
       "4                                                NaN    \n",
       "\n",
       "   utc_offset_secondsSouthhampton - Portsmouth_weather  \\\n",
       "0                                                NaN     \n",
       "1                                                0.0     \n",
       "2                                                NaN     \n",
       "3                                                0.0     \n",
       "4                                                NaN     \n",
       "\n",
       "   timezoneSouthhampton - Portsmouth_weather  \\\n",
       "0                                        NaN   \n",
       "1                                        GMT   \n",
       "2                                        NaN   \n",
       "3                                        GMT   \n",
       "4                                        NaN   \n",
       "\n",
       "   timezone_abbreviationSouthhampton - Portsmouth_weather  \\\n",
       "0                                                NaN        \n",
       "1                                                GMT        \n",
       "2                                                NaN        \n",
       "3                                                GMT        \n",
       "4                                                NaN        \n",
       "\n",
       "   elevationSouthhampton - Portsmouth_weather  \n",
       "0                                         NaN  \n",
       "1                                        10.0  \n",
       "2                                         NaN  \n",
       "3                                        10.0  \n",
       "4                                         NaN  \n",
       "\n",
       "[5 rows x 294 columns]"
      ]
     },
     "execution_count": 2,
     "metadata": {},
     "output_type": "execute_result"
    }
   ],
   "source": [
    "df = pd.read_csv('./Data/Kaggle_ESO_battery/train_data.csv')\n",
    "df.head()"
   ]
  },
  {
   "cell_type": "markdown",
   "metadata": {},
   "source": [
    "**Time Index Processing**\n",
    "\n",
    "By using the developed class of time index processing, \n",
    "1. settlement date and time is converted into datetime index.\n",
    "2. Checked duplicates time index and create new dataframe while keeping only first of duplicates \n",
    "3. Find out any missing time index and add them in dataframe."
   ]
  },
  {
   "cell_type": "code",
   "execution_count": 3,
   "metadata": {},
   "outputs": [
    {
     "name": "stdout",
     "output_type": "stream",
     "text": [
      "There are no duplicate time index\n",
      "All time index present\n"
     ]
    }
   ],
   "source": [
    "# Create the class object\n",
    "index_processing = TimeindexProcessing()\n",
    "\n",
    "# Convert a column 'datetime' into time index\n",
    "indexed_df = index_processing.convert_column_to_timeindex(df, column_name= 'UTC_Settlement_DateTime')\n",
    "\n",
    "# Determine a list of duplicates index and build a new dataframe by keeping only first row of duplicates index\n",
    "duplicates_index_list, duplicates_corrected_df = index_processing.duplicate_timeindex(indexed_df)\n",
    "\n",
    "# Duplicates index in the original dataframe can be checked by:\n",
    "indexed_df.loc[duplicates_index_list]\n",
    "\n",
    "# Duplicates corrected dataframe for original dataframe's duplicates:\n",
    "duplicates_corrected_df.loc[duplicates_index_list]\n",
    "\n",
    "# Identify missing index based on declared data frequency and add these rows into duplicates corrected dataframe\n",
    "data_freq = '0.5H' # Define the expected data frequency\n",
    "missing_index_list, rows_added_df = index_processing.missing_timeindex(duplicates_corrected_df, data_freq)\n",
    "\n",
    "# To confirm whether missing rows are added in dataframe:\n",
    "# rows_added_df.loc[missing_index_list]"
   ]
  },
  {
   "cell_type": "markdown",
   "metadata": {},
   "source": [
    "Time index processed dataframe is splitted into a dataframe of input features and a series of output parameter. Both of these are analzyed in different ways. In the following section, we focus on analyzing data processing of input features. They are identifying misisng values columns, types of columns (categorical/continuous). Based on these information, data imputation and cleaning would be performed."
   ]
  },
  {
   "cell_type": "code",
   "execution_count": 4,
   "metadata": {},
   "outputs": [],
   "source": [
    "cleaned_index_df = rows_added_df.copy()\n",
    "output_parameter = 'battery_output'\n",
    "# Extract the output series from cleaned dataframe\n",
    "output_series = cleaned_index_df[output_parameter]\n",
    "\n",
    "# Input variables dataframe\n",
    "input_features_df = cleaned_index_df.copy()\n",
    "input_features_df.drop(output_parameter, axis = 1, inplace = True)\n",
    "\n",
    "# Defining list of columns to drop and a dictionary of columns (key - method, value - list of columns) to impute \n",
    "# which will be appended based on outcome of each section\n",
    "columns_to_drop = []\n",
    "columns_to_impute = {}"
   ]
  },
  {
   "cell_type": "markdown",
   "metadata": {},
   "source": [
    "### Missing Values\n",
    "\n",
    "- First, the number of missing values of each column is identified. Either these columns are dropped or imputed. \n",
    "- For our data, weather columns have almost 50% missing values as they were measured at one hour interval while battery output is at half an hour interval. Therefore, weather columns can be filled by linear interpolation. \n",
    "- Other than weather parameters, west midlands price is missing for a day. This data can be filled by forward filling. "
   ]
  },
  {
   "cell_type": "code",
   "execution_count": 5,
   "metadata": {},
   "outputs": [
    {
     "data": {
      "text/plain": [
       "West_Midlands_price                                          44\n",
       "temperature_2mBelfast_weather                             19729\n",
       "relativehumidity_2mBelfast_weather                        19729\n",
       "dewpoint_2mBelfast_weather                                19729\n",
       "apparent_temperatureBelfast_weather                       19729\n",
       "                                                          ...  \n",
       "generationtime_msSouthhampton - Portsmouth_weather        19729\n",
       "utc_offset_secondsSouthhampton - Portsmouth_weather       19729\n",
       "timezoneSouthhampton - Portsmouth_weather                 19729\n",
       "timezone_abbreviationSouthhampton - Portsmouth_weather    19729\n",
       "elevationSouthhampton - Portsmouth_weather                19729\n",
       "Length: 281, dtype: int64"
      ]
     },
     "execution_count": 5,
     "metadata": {},
     "output_type": "execute_result"
    }
   ],
   "source": [
    "ivp = InputVariablesProcessing(input_features_df)\n",
    "missing_values_series = ivp.missing_rows_count()\n",
    "missing_values_series"
   ]
  },
  {
   "cell_type": "code",
   "execution_count": 6,
   "metadata": {},
   "outputs": [],
   "source": [
    "weather_columns_to_impute = missing_values_series[missing_values_series >45].index.tolist()\n",
    "price_columns_to_impute = ['West_Midlands_price']"
   ]
  },
  {
   "cell_type": "code",
   "execution_count": 14,
   "metadata": {},
   "outputs": [],
   "source": [
    "# df[df['West_Midlands_price'].isna()]"
   ]
  },
  {
   "cell_type": "markdown",
   "metadata": {},
   "source": [
    "### Columns types: categorical/continuous "
   ]
  },
  {
   "cell_type": "markdown",
   "metadata": {},
   "source": [
    "**Constant value columns**"
   ]
  },
  {
   "cell_type": "code",
   "execution_count": 7,
   "metadata": {},
   "outputs": [
    {
     "data": {
      "text/plain": [
       "locationBelfast_weather                                       [nan, Belfast]\n",
       "populationBelfast_weather                                    [nan, 630632.0]\n",
       "latitudeBelfast_weather                                     [nan, 54.600006]\n",
       "longitudeBelfast_weather                                    [nan, -5.899994]\n",
       "generationtime_msBelfast_weather                          [nan, 1807.518005]\n",
       "                                                                 ...        \n",
       "generationtime_msSouthhampton - Portsmouth_weather        [nan, 61.43093109]\n",
       "utc_offset_secondsSouthhampton - Portsmouth_weather               [nan, 0.0]\n",
       "timezoneSouthhampton - Portsmouth_weather                         [nan, GMT]\n",
       "timezone_abbreviationSouthhampton - Portsmouth_weather            [nan, GMT]\n",
       "elevationSouthhampton - Portsmouth_weather                       [nan, 10.0]\n",
       "Length: 90, dtype: object"
      ]
     },
     "execution_count": 7,
     "metadata": {},
     "output_type": "execute_result"
    }
   ],
   "source": [
    "constant_values_series = ivp.constant_values()\n",
    "constant_values_series"
   ]
  },
  {
   "cell_type": "markdown",
   "metadata": {},
   "source": [
    "These column values might be useful for connecting other data source but not for modeling. Therefore, these columns are worth to drop."
   ]
  },
  {
   "cell_type": "code",
   "execution_count": 8,
   "metadata": {},
   "outputs": [],
   "source": [
    "columns_to_drop = columns_to_drop + constant_values_series.index.tolist()"
   ]
  },
  {
   "cell_type": "markdown",
   "metadata": {},
   "source": [
    "**Small unique value columns**"
   ]
  },
  {
   "cell_type": "code",
   "execution_count": 9,
   "metadata": {},
   "outputs": [
    {
     "data": {
      "text/plain": [
       "is_dayBelfast_weather                      [nan, 0.0, 1.0]\n",
       "is_dayBirmingham_weather                   [nan, 0.0, 1.0]\n",
       "is_dayGlasgow_weather                      [nan, 0.0, 1.0]\n",
       "is_dayLeeds_weather                        [nan, 0.0, 1.0]\n",
       "is_dayLiverpool_weather                    [nan, 0.0, 1.0]\n",
       "is_dayLondon_weather                       [nan, 0.0, 1.0]\n",
       "is_dayManchester_weather                   [nan, 0.0, 1.0]\n",
       "is_dayNewcastle upon Tyne_weather          [nan, 0.0, 1.0]\n",
       "is_daySheffield_weather                    [nan, 0.0, 1.0]\n",
       "is_daySouthhampton - Portsmouth_weather    [nan, 0.0, 1.0]\n",
       "dtype: object"
      ]
     },
     "execution_count": 9,
     "metadata": {},
     "output_type": "execute_result"
    }
   ],
   "source": [
    "small_uniquevalue_series = ivp.small_unique_values()\n",
    "small_uniquevalue_series"
   ]
  },
  {
   "cell_type": "markdown",
   "metadata": {},
   "source": [
    "All of the above columns indicates whether it is a day time or night time. Therefore, these columns are grouped in categorical numerical values. They must be imputed by either back fill or forward fill."
   ]
  },
  {
   "cell_type": "code",
   "execution_count": 10,
   "metadata": {},
   "outputs": [],
   "source": [
    "categorical_numerical_columns = small_uniquevalue_series.index.tolist()"
   ]
  },
  {
   "cell_type": "code",
   "execution_count": 11,
   "metadata": {},
   "outputs": [],
   "source": [
    "remaining_weather_columns = list(set(weather_columns_to_impute) - set(categorical_numerical_columns))\n",
    "weather_object_columns = df[remaining_weather_columns].select_dtypes(include = 'object').columns.tolist()\n",
    "weather_numerical_columns = df[remaining_weather_columns].select_dtypes(exclude = 'object').columns.tolist()"
   ]
  },
  {
   "cell_type": "markdown",
   "metadata": {},
   "source": [
    "### Data Imputation\n",
    "\n",
    "- Categorical columns (both object and distinct numeric values) are imputed by forward fill.\n",
    "- Continuous numerical columns are imputed by linear interpolation."
   ]
  },
  {
   "cell_type": "code",
   "execution_count": 12,
   "metadata": {},
   "outputs": [],
   "source": [
    "# Categorical columns to be imputed by forward fill\n",
    "columns_to_impute['ffill'] =  weather_object_columns + categorical_numerical_columns \n",
    "# Continuous columns to be imputed by linear interpolation\n",
    "columns_to_impute['linear'] = weather_numerical_columns + price_columns_to_impute\n",
    "\n",
    "imputed_df = ivp.data_imputation(input_features_df, columns_to_impute)"
   ]
  },
  {
   "cell_type": "markdown",
   "metadata": {},
   "source": [
    "*Last check on missing values*"
   ]
  },
  {
   "cell_type": "code",
   "execution_count": 13,
   "metadata": {},
   "outputs": [
    {
     "data": {
      "text/plain": [
       "UTC_Settlement_DateTime\n",
       "2020-08-10 23:30:00    280\n",
       "dtype: int64"
      ]
     },
     "execution_count": 13,
     "metadata": {},
     "output_type": "execute_result"
    }
   ],
   "source": [
    "rows_missing_values = imputed_df.isna().sum(axis = 1)\n",
    "rows_missing_values[rows_missing_values >0]"
   ]
  },
  {
   "cell_type": "markdown",
   "metadata": {},
   "source": [
    "After data imputation, only the first row has null values. Therefore this row can be dropped."
   ]
  },
  {
   "cell_type": "code",
   "execution_count": 14,
   "metadata": {},
   "outputs": [
    {
     "data": {
      "text/plain": [
       "[Timestamp('2020-08-10 23:30:00')]"
      ]
     },
     "execution_count": 14,
     "metadata": {},
     "output_type": "execute_result"
    }
   ],
   "source": [
    "rows_to_drop = rows_missing_values[rows_missing_values >0].index.tolist()\n",
    "rows_to_drop"
   ]
  },
  {
   "cell_type": "markdown",
   "metadata": {},
   "source": [
    "**Data Cleaning**\n",
    "\n",
    "Dropping rows and columns which were determined of less relevance from the above data processing."
   ]
  },
  {
   "cell_type": "code",
   "execution_count": 15,
   "metadata": {},
   "outputs": [
    {
     "name": "stdout",
     "output_type": "stream",
     "text": [
      "Raw data shape: (39457, 294)\n",
      "Imputed df shape: (39457, 292)\n",
      "Cleaned (after dropping less relevant rows and columns) (39456, 202)\n"
     ]
    }
   ],
   "source": [
    "print('Raw data shape:', df.shape)\n",
    "print('Imputed df shape:', imputed_df.shape)\n",
    "cleaned_df = ivp.data_cleaning(imputed_df, columns_to_drop = columns_to_drop, rows_to_drop = rows_to_drop)\n",
    "print('Cleaned (after dropping less relevant rows and columns)', cleaned_df.shape)"
   ]
  }
 ],
 "metadata": {
  "kernelspec": {
   "display_name": "Python 3",
   "language": "python",
   "name": "python3"
  },
  "language_info": {
   "codemirror_mode": {
    "name": "ipython",
    "version": 3
   },
   "file_extension": ".py",
   "mimetype": "text/x-python",
   "name": "python",
   "nbconvert_exporter": "python",
   "pygments_lexer": "ipython3",
   "version": "3.9.13"
  }
 },
 "nbformat": 4,
 "nbformat_minor": 2
}
